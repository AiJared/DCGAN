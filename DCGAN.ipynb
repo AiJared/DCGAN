{
  "nbformat": 4,
  "nbformat_minor": 0,
  "metadata": {
    "colab": {
      "provenance": [],
      "authorship_tag": "ABX9TyPaBbqeptr/sbQVM6ihaRQg",
      "include_colab_link": true
    },
    "kernelspec": {
      "name": "python3",
      "display_name": "Python 3"
    },
    "language_info": {
      "name": "python"
    }
  },
  "cells": [
    {
      "cell_type": "markdown",
      "metadata": {
        "id": "view-in-github",
        "colab_type": "text"
      },
      "source": [
        "<a href=\"https://colab.research.google.com/github/AiJared/DCGAN/blob/main/DCGAN.ipynb\" target=\"_parent\"><img src=\"https://colab.research.google.com/assets/colab-badge.svg\" alt=\"Open In Colab\"/></a>"
      ]
    },
    {
      "cell_type": "code",
      "execution_count": 1,
      "metadata": {
        "id": "gQVv7l4kF7Fh"
      },
      "outputs": [],
      "source": [
        "# import libraries\n",
        "import tensorflow as tf\n",
        "import numpy as np\n",
        "import matplotlib.pyplot as plt\n",
        "import time\n",
        "import os\n",
        "from IPython import display"
      ]
    },
    {
      "cell_type": "code",
      "source": [
        "# set random seed for reproducibility\n",
        "tf.random.set_seed(42)\n",
        "\n",
        "# Hyperparameters\n",
        "BUFFER_SIZE = 60000\n",
        "BATCH_SIZE = 128\n",
        "EPOCHS = 200\n",
        "noice_dim = 100\n",
        "IMAGE_SIZE = 64\n",
        "CHANNELS = 3"
      ],
      "metadata": {
        "id": "yrBKSTvaGrK-"
      },
      "execution_count": 2,
      "outputs": []
    },
    {
      "cell_type": "code",
      "source": [],
      "metadata": {
        "id": "U4R38x4vHbAx"
      },
      "execution_count": null,
      "outputs": []
    }
  ]
}