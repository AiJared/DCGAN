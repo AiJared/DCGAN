{
  "nbformat": 4,
  "nbformat_minor": 0,
  "metadata": {
    "colab": {
      "provenance": [],
      "authorship_tag": "ABX9TyPD+afWS3qrqgCtXaTB/TuP",
      "include_colab_link": true
    },
    "kernelspec": {
      "name": "python3",
      "display_name": "Python 3"
    },
    "language_info": {
      "name": "python"
    }
  },
  "cells": [
    {
      "cell_type": "markdown",
      "metadata": {
        "id": "view-in-github",
        "colab_type": "text"
      },
      "source": [
        "<a href=\"https://colab.research.google.com/github/AiJared/DCGAN/blob/main/DCGAN.ipynb\" target=\"_parent\"><img src=\"https://colab.research.google.com/assets/colab-badge.svg\" alt=\"Open In Colab\"/></a>"
      ]
    },
    {
      "cell_type": "code",
      "execution_count": 1,
      "metadata": {
        "id": "gQVv7l4kF7Fh"
      },
      "outputs": [],
      "source": [
        "# import libraries\n",
        "import tensorflow as tf\n",
        "import numpy as np\n",
        "import matplotlib.pyplot as plt\n",
        "import time\n",
        "import os\n",
        "import keras\n",
        "from IPython import display"
      ]
    },
    {
      "cell_type": "code",
      "source": [
        "class DCGAN:\n",
        "  def __init__(self, image_shape=(64, 64, 1), latent_dim=100):\n",
        "    \"\"\"\n",
        "    Initialize DCGAN with specific image dimensions and latent space\n",
        "\n",
        "    Args:\n",
        "      image_shape(tuple): the dimensions of input images\n",
        "      latent_dim(int): Dimensionality of random noice vector\n",
        "    \"\"\"\n",
        ""
      ],
      "metadata": {
        "id": "U4R38x4vHbAx"
      },
      "execution_count": null,
      "outputs": []
    }
  ]
}