{
  "nbformat": 4,
  "nbformat_minor": 0,
  "metadata": {
    "colab": {
      "provenance": [],
      "authorship_tag": "ABX9TyPAtlwe20NjJUypqmpe+viW",
      "include_colab_link": true
    },
    "kernelspec": {
      "name": "python3",
      "display_name": "Python 3"
    },
    "language_info": {
      "name": "python"
    }
  },
  "cells": [
    {
      "cell_type": "markdown",
      "metadata": {
        "id": "view-in-github",
        "colab_type": "text"
      },
      "source": [
        "<a href=\"https://colab.research.google.com/github/AiJared/DCGAN/blob/main/DCGAN.ipynb\" target=\"_parent\"><img src=\"https://colab.research.google.com/assets/colab-badge.svg\" alt=\"Open In Colab\"/></a>"
      ]
    },
    {
      "cell_type": "code",
      "execution_count": 1,
      "metadata": {
        "id": "gQVv7l4kF7Fh"
      },
      "outputs": [],
      "source": [
        "# import libraries\n",
        "import tensorflow as tf\n",
        "import numpy as np\n",
        "import matplotlib.pyplot as plt\n",
        "import time\n",
        "import os\n",
        "import keras\n",
        "from IPython import display"
      ]
    },
    {
      "cell_type": "code",
      "source": [
        "from google.colab import drive\n",
        "drive.mount('/content/drive')"
      ],
      "metadata": {
        "colab": {
          "base_uri": "https://localhost:8080/"
        },
        "id": "wCElBxaHLKLb",
        "outputId": "829869b8-bbb1-4d0b-f6fa-1815a5de83e5"
      },
      "execution_count": 2,
      "outputs": [
        {
          "output_type": "stream",
          "name": "stdout",
          "text": [
            "Mounted at /content/drive\n"
          ]
        }
      ]
    },
    {
      "cell_type": "code",
      "source": [
        "class DCGAN:\n",
        "  def __init__(self, image_shape=(64, 64, 1), latent_dim=100):\n",
        "    \"\"\"\n",
        "    Initialize DCGAN with specific image dimensions and latent space\n",
        "\n",
        "    Args:\n",
        "      image_shape(tuple): the dimensions of input images\n",
        "      latent_dim(int): Dimensionality of random noice vector\n",
        "    \"\"\"\n",
        "    self.image_shape = image_shape\n",
        "    self.latent_dim = latent_dim\n",
        "\n",
        "    # Key DCGAN improvements: Specific architectural guidelines\n",
        "    self.generator = self.build_generator()\n",
        "    self.discriminator = self.build_discriminator()\n",
        "\n",
        "    self.adversarial_model = self.build_adversarial_model()\n",
        "\n",
        "    def build_generator(self):\n",
        "      \"\"\"\n",
        "      Build DCGAN generator with convolutional transpose layers\n",
        "\n",
        "      Key DCGAN features:\n",
        "       - Transposed convolutional layers\n",
        "       - Batch normalization\n",
        "       - LeakyReLu activations\n",
        "      \"\"\"\n",
        "\n",
        "      model = keras.Sequential([\n",
        "          # input layer: Dense to initial feature map\n",
        "          keras.layers.Dense(8 * 8 * 256, input_dim=self.latent_dim),\n",
        "          keras.layes.Reshape(8, 8, 256),\n",
        "\n",
        "          # upsampling blocks with batch norm and leakyReLu\n",
        "          keras.layers.Conv2DTranspose(128, kernel_size=4, strides=2, padding='same'),\n",
        "          keras.layers.BatchNormalization(),\n",
        "          keras.layers.LeakyReLU(alpha=0.2),\n",
        "\n",
        "          # Final layer to generate image\n",
        "\n",
        "          keras.layers.Conv2DTranspose(self.image_shape[2], kernel_size=4, strides=2,\n",
        "                                       padding='same', activation='tanh')\n",
        "      ])\n",
        "\n",
        "      return model\n",
        "\n",
        "    def build_discriminator(self):\n",
        "      \"\"\"\n",
        "      Build DCGAN discriminator using convolutional layers\n",
        "\n",
        "      Key DCGAN features:\n",
        "       - Strided convolutional layers\n",
        "       - Batch normalization\n",
        "       - LeakyReLu activations\n",
        "       - No fully connected layers\n",
        "      \"\"\"\n",
        "      model = keras.Sequential([\n",
        "          # convolution layers with strided convolutions\n",
        "          keras.layers.Conv2D(64, kernel_size=4, strides=2, padding='same',\n",
        "                              input_shape=self.image_shape),\n",
        "          keras.layers.LeakyReLu(alpha=0.2),\n",
        "          keras.layers.Conv2D(128, kernel_size=4, strides=2, padding='same'),\n",
        "          keras.layers.BatchNormalization(),\n",
        "          keras.layers.LeakyReLu(alpha=0.2),\n",
        "\n",
        "          # Flatten and output\n",
        "          keras.layers.Flatten(),\n",
        "          keras.layers.Dense(1, activation='sigmoid')\n",
        "      ])\n",
        "\n",
        "      return model\n",
        "\n",
        "    def build_adversarial_model(self):\n",
        "      \"\"\"\n",
        "      Build combined generator-discriminator model.\n",
        "\n",
        "      Ensures discriminator model is non-trainable during generator training\n",
        "      \"\"\"\n",
        "      # Freeze discriminator weights during generator training\n",
        "      self.discriminator.trainable = False\n",
        "\n",
        "      model = keras.Sequential([\n",
        "          self.generator,\n",
        "          self.discriminator\n",
        "      ])\n",
        "\n",
        "      return model\n",
        "\n",
        "    def train_step(self, real_images):\n",
        "      \"\"\"\n",
        "      Single training step for DCGAN\n",
        "\n",
        "      Implements adversarial training with gradient computation\n",
        "      \"\"\"\n",
        "      batch_size = tf.shape(real_images)[0]\n",
        "\n"
      ],
      "metadata": {
        "id": "U4R38x4vHbAx"
      },
      "execution_count": null,
      "outputs": []
    }
  ]
}